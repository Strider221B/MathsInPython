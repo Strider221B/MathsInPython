{
 "cells": [
  {
   "cell_type": "code",
   "execution_count": 4,
   "metadata": {},
   "outputs": [],
   "source": [
    "import numpy as np\n",
    "import matplotlib.pyplot as plt"
   ]
  },
  {
   "cell_type": "code",
   "execution_count": 2,
   "metadata": {},
   "outputs": [
    {
     "data": {
      "text/plain": [
       "array([[0.40159808, 0.45811104, 0.24264872, 0.00249718, 0.43078134],\n",
       "       [0.28823191, 0.82184597, 0.22613159, 0.01892892, 0.18516014],\n",
       "       [0.19864681, 0.217503  , 0.2580027 , 0.44165584, 0.64004108],\n",
       "       [0.91403196, 0.07560428, 0.28256322, 0.82673547, 0.2894571 ],\n",
       "       [0.10668178, 0.90413803, 0.32042746, 0.89108923, 0.60031245]])"
      ]
     },
     "execution_count": 2,
     "metadata": {},
     "output_type": "execute_result"
    }
   ],
   "source": [
    "A = np.random.rand(5, 5)\n",
    "A"
   ]
  },
  {
   "cell_type": "code",
   "execution_count": 3,
   "metadata": {},
   "outputs": [
    {
     "data": {
      "text/plain": [
       "array([[  7.02715577,  -5.0913322 ,  -5.78213571,   0.5874767 ,\n",
       "          2.40924417],\n",
       "       [  4.65410266,  -3.0834534 ,  -4.58320485,  -0.38994283,\n",
       "          2.68583997],\n",
       "       [-34.06057755,  29.01600784,  29.14202149,   1.37760109,\n",
       "        -16.24286493],\n",
       "       [ -0.05705065,  -1.09597072,  -0.99697588,   0.44403702,\n",
       "          1.22783111],\n",
       "       [ 10.00672395,  -8.31216845,  -6.14481877,  -0.91153989,\n",
       "          4.03983029]])"
      ]
     },
     "execution_count": 3,
     "metadata": {},
     "output_type": "execute_result"
    }
   ],
   "source": [
    "A_inverse = np.linalg.inv(A)\n",
    "A_inverse"
   ]
  },
  {
   "cell_type": "markdown",
   "metadata": {},
   "source": [
    "Two conditions for inverse:\n",
    "1. Matrix should be square\n",
    "1. Matrix should have full rank"
   ]
  },
  {
   "cell_type": "code",
   "execution_count": 6,
   "metadata": {},
   "outputs": [
    {
     "data": {
      "image/png": "[encoded data removed]",
      "text/plain": [
       "<Figure size 432x288 with 3 Axes>"
      ]
     },
     "metadata": {
      "needs_background": "light"
     },
     "output_type": "display_data"
    }
   ],
   "source": [
    "_, ax = plt.subplots(1, 3)\n",
    "ax[0].imshow(A);\n",
    "ax[1].imshow(A_inverse);\n",
    "ax[2].imshow(A@A_inverse);\n",
    "plt.show()"
   ]
  },
  {
   "cell_type": "code",
   "execution_count": 9,
   "metadata": {},
   "outputs": [
    {
     "data": {
      "text/plain": [
       "array([[ 2,  2, -3,  3,  4],\n",
       "       [ 5, -5,  1, -2,  2],\n",
       "       [-2, -3,  0, -5,  4],\n",
       "       [-3, -3, -4,  4, -3],\n",
       "       [ 1,  4,  2,  0,  2]])"
      ]
     },
     "execution_count": 9,
     "metadata": {},
     "output_type": "execute_result"
    }
   ],
   "source": [
    "m = 5\n",
    "A = np.random.randint(-m, m+1, (m,m))\n",
    "A"
   ]
  },
  {
   "cell_type": "code",
   "execution_count": 10,
   "metadata": {},
   "outputs": [
    {
     "data": {
      "text/plain": [
       "array([[ 2,  2, -3,  3,  4],\n",
       "       [-5, -5,  1, -2,  2],\n",
       "       [-3, -3,  0, -5,  4],\n",
       "       [-3, -3, -4,  4, -3],\n",
       "       [ 4,  4,  2,  0,  2]])"
      ]
     },
     "execution_count": 10,
     "metadata": {},
     "output_type": "execute_result"
    }
   ],
   "source": [
    "A[:, 0] = A[:, 1]\n",
    "A"
   ]
  },
  {
   "cell_type": "code",
   "execution_count": 12,
   "metadata": {},
   "outputs": [
    {
     "data": {
      "text/plain": [
       "array([[ 0.00415334, -0.0918138 ,  0.02128806, -0.02241183,  0.00731326],\n",
       "       [ 0.00415334, -0.0918138 ,  0.02128806, -0.02241183,  0.00731326],\n",
       "       [-0.05358124,  0.25062588, -0.19829639, -0.08237162,  0.12957196],\n",
       "       [ 0.08284837,  0.20756831, -0.20555329,  0.03470627,  0.08990094],\n",
       "       [ 0.12826384,  0.12303606,  0.00262798, -0.03139487,  0.06808798]])"
      ]
     },
     "execution_count": 12,
     "metadata": {},
     "output_type": "execute_result"
    }
   ],
   "source": [
    "pseudo_inverse = np.linalg.pinv(A)\n",
    "pseudo_inverse"
   ]
  },
  {
   "cell_type": "code",
   "execution_count": 13,
   "metadata": {},
   "outputs": [
    {
     "data": {
      "image/png": "[encoded data removed]",
      "text/plain": [
       "<Figure size 432x288 with 3 Axes>"
      ]
     },
     "metadata": {
      "needs_background": "light"
     },
     "output_type": "display_data"
    }
   ],
   "source": [
    "_, ax = plt.subplots(1, 3)\n",
    "ax[0].imshow(A);\n",
    "ax[1].imshow(pseudo_inverse);\n",
    "ax[2].imshow(A@pseudo_inverse);\n",
    "plt.show()"
   ]
  },
  {
   "cell_type": "code",
   "execution_count": 14,
   "metadata": {},
   "outputs": [
    {
     "data": {
      "text/plain": [
       "array([[ 0.93895754, -0.00428368,  0.0738935 ,  0.13600688,  0.18259191],\n",
       "       [-0.00428368,  0.99969939,  0.00518551,  0.00954434,  0.01281347],\n",
       "       [ 0.0738935 ,  0.00518551,  0.91054997, -0.1646399 , -0.22103231],\n",
       "       [ 0.13600688,  0.00954434, -0.1646399 ,  0.69696713, -0.40682759],\n",
       "       [ 0.18259191,  0.01281347, -0.22103231, -0.40682759,  0.45382596]])"
      ]
     },
     "execution_count": 14,
     "metadata": {},
     "output_type": "execute_result"
    }
   ],
   "source": [
    "A@pseudo_inverse"
   ]
  },
  {
   "cell_type": "code",
   "execution_count": null,
   "metadata": {},
   "outputs": [],
   "source": []
  }
 ],
 "metadata": {
  "kernelspec": {
   "display_name": "py37_default",
   "language": "python",
   "name": "conda-env-py37_default-py"
  },
  "language_info": {
   "codemirror_mode": {
    "name": "ipython",
    "version": 3
   },
   "file_extension": ".py",
   "mimetype": "text/x-python",
   "name": "python",
   "nbconvert_exporter": "python",
   "pygments_lexer": "ipython3",
   "version": "3.7.9"
  }
 },
 "nbformat": 4,
 "nbformat_minor": 4
}
