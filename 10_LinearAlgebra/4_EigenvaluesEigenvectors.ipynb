{
 "cells": [
  {
   "cell_type": "markdown",
   "metadata": {},
   "source": [
    "## Eigendecomposition\n",
    "\n",
    "$A v = w$\n",
    "\n",
    "Where A is a matrix\n",
    "\n",
    "$v$ is the eigenvector and $w$ is the $v$ scaled by the proportion of eigenvalue."
   ]
  },
  {
   "cell_type": "markdown",
   "metadata": {},
   "source": [
    "The above equation can be re-written as:\n",
    "\n",
    "$AV = V\\Lambda $\n",
    "\n",
    "Where $V$ is the matrix of all eigenvectors and $\\Lambda $ is the matrix of eigenvalues on the diagonals.\n",
    "\n",
    "$\\rightarrow$ $A = V\\Lambda V^{-1}$\n",
    "\n",
    "That's why eigendecomposition is also known as <i>Diagonalization</i>.\n",
    "\n",
    "This can work only for square matrices.\n",
    "\n",
    "If the matrix is symmetric, the decomposition will result in real valued eigendecomposition."
   ]
  },
  {
   "cell_type": "code",
   "execution_count": 1,
   "metadata": {},
   "outputs": [],
   "source": [
    "import numpy as np\n",
    "import matplotlib.pyplot as plt"
   ]
  },
  {
   "cell_type": "code",
   "execution_count": 4,
   "metadata": {},
   "outputs": [],
   "source": [
    "M = np.random.randint(-5, 6, (5, 5))"
   ]
  },
  {
   "cell_type": "code",
   "execution_count": 5,
   "metadata": {},
   "outputs": [
    {
     "data": {
      "text/plain": [
       "(array([ 3.3063424 +6.17132444j,  3.3063424 -6.17132444j,\n",
       "        -0.99838303+1.05154719j, -0.99838303-1.05154719j,\n",
       "         7.38408126+0.j        ]),\n",
       " array([[-0.22261313-0.07426888j, -0.22261313+0.07426888j,\n",
       "          0.42979998+0.22956228j,  0.42979998-0.22956228j,\n",
       "         -0.03248523+0.j        ],\n",
       "        [-0.1664787 +0.22869498j, -0.1664787 -0.22869498j,\n",
       "          0.02184325-0.31237932j,  0.02184325+0.31237932j,\n",
       "          0.69900874+0.j        ],\n",
       "        [ 0.58270571+0.j        ,  0.58270571-0.j        ,\n",
       "          0.28452755+0.08699423j,  0.28452755-0.08699423j,\n",
       "         -0.6855248 +0.j        ],\n",
       "        [-0.18494748+0.53837567j, -0.18494748-0.53837567j,\n",
       "         -0.02655231-0.46068054j, -0.02655231+0.46068054j,\n",
       "         -0.06791972+0.j        ],\n",
       "        [ 0.14901538+0.42320861j,  0.14901538-0.42320861j,\n",
       "         -0.60254432+0.j        , -0.60254432-0.j        ,\n",
       "          0.18914057+0.j        ]]))"
      ]
     },
     "execution_count": 5,
     "metadata": {},
     "output_type": "execute_result"
    }
   ],
   "source": [
    "eig_vals, eig_vecs = np.linalg.eig(M)\n",
    "eig_vals, eig_vecs"
   ]
  },
  {
   "cell_type": "markdown",
   "metadata": {},
   "source": [
    "Let's create a symmetric matrix and check real valued decomposition"
   ]
  },
  {
   "cell_type": "code",
   "execution_count": 6,
   "metadata": {},
   "outputs": [],
   "source": [
    "M = np.random.randint(-5, 6, (5, 6))\n",
    "M = M@M.T"
   ]
  },
  {
   "cell_type": "code",
   "execution_count": 7,
   "metadata": {},
   "outputs": [
    {
     "data": {
      "text/plain": [
       "(array([113.71576315,   0.62817659,  21.77204872,  81.54487684,\n",
       "         54.3391347 ]),\n",
       " array([[ 0.31546698,  0.40842208, -0.5957127 , -0.61435703,  0.03692979],\n",
       "        [ 0.68137264, -0.69077988, -0.21827763,  0.1006206 , -0.02801538],\n",
       "        [ 0.0743089 , -0.02444066,  0.1523758 , -0.06675576,  0.98295785],\n",
       "        [-0.25024653, -0.46312482,  0.34082538, -0.77275062, -0.09791124],\n",
       "        [ 0.60668507,  0.37540994,  0.67683153, -0.10412055, -0.14852135]]))"
      ]
     },
     "execution_count": 7,
     "metadata": {},
     "output_type": "execute_result"
    }
   ],
   "source": [
    "eig_vals, eig_vecs = np.linalg.eig(M)\n",
    "eig_vals, eig_vecs"
   ]
  },
  {
   "cell_type": "code",
   "execution_count": 8,
   "metadata": {},
   "outputs": [
    {
     "data": {
      "text/plain": [
       "array([[ 0.50968576,  0.15966134, -0.55224251,  0.35795319, -0.53068485],\n",
       "       [-0.31412438,  0.70368217, -0.27304841, -0.54837912, -0.1757333 ],\n",
       "       [ 0.63116293,  0.44343674,  0.62683128, -0.10904395,  0.01375383],\n",
       "       [-0.23520187,  0.53050424, -0.02754408,  0.69172685,  0.42895293],\n",
       "       [ 0.4334279 , -0.03561985, -0.47623171, -0.28420632,  0.70943753]])"
      ]
     },
     "execution_count": 8,
     "metadata": {},
     "output_type": "execute_result"
    }
   ],
   "source": [
    "eig_vecs @ eig_vecs"
   ]
  },
  {
   "cell_type": "code",
   "execution_count": 9,
   "metadata": {},
   "outputs": [
    {
     "data": {
      "text/plain": [
       "array([[ 50,  22,   6,  25,  18],\n",
       "       [ 22,  55,   3, -27,  43],\n",
       "       [  6,   3,  54,  -2,   0],\n",
       "       [ 25, -27,  -2,  59,  -5],\n",
       "       [ 18,  43,   0,  -5,  54]])"
      ]
     },
     "execution_count": 9,
     "metadata": {},
     "output_type": "execute_result"
    }
   ],
   "source": [
    "M"
   ]
  },
  {
   "cell_type": "code",
   "execution_count": 16,
   "metadata": {},
   "outputs": [
    {
     "name": "stdout",
     "output_type": "stream",
     "text": [
      "[[1.29313e+04 0.00000e+00 0.00000e+00 0.00000e+00 0.00000e+00]\n",
      " [0.00000e+00 4.00000e-01 0.00000e+00 0.00000e+00 0.00000e+00]\n",
      " [0.00000e+00 0.00000e+00 4.74000e+02 0.00000e+00 0.00000e+00]\n",
      " [0.00000e+00 0.00000e+00 0.00000e+00 6.64960e+03 0.00000e+00]\n",
      " [0.00000e+00 0.00000e+00 0.00000e+00 0.00000e+00 2.95270e+03]]\n"
     ]
    }
   ],
   "source": [
    "print(np.round(np.diag(eig_vals) * np.diag(eig_vals), 1))"
   ]
  },
  {
   "cell_type": "code",
   "execution_count": 18,
   "metadata": {},
   "outputs": [
    {
     "data": {
      "text/plain": [
       "array([[ 1., -0., -0., -0.,  0.],\n",
       "       [-0.,  1., -0., -0.,  0.],\n",
       "       [-0., -0.,  1.,  0.,  0.],\n",
       "       [-0., -0.,  0.,  1.,  0.],\n",
       "       [ 0.,  0.,  0.,  0.,  1.]])"
      ]
     },
     "execution_count": 18,
     "metadata": {},
     "output_type": "execute_result"
    }
   ],
   "source": [
    "dps = np.zeros((5, 5))\n",
    "for i in range(5):\n",
    "    for j in range(5):\n",
    "        dps[i, j] = np.dot(eig_vecs[:, i], eig_vecs[:, j])\n",
    "np.round(dps, 5)"
   ]
  },
  {
   "cell_type": "code",
   "execution_count": null,
   "metadata": {},
   "outputs": [],
   "source": []
  }
 ],
 "metadata": {
  "kernelspec": {
   "display_name": "py37_default",
   "language": "python",
   "name": "conda-env-py37_default-py"
  },
  "language_info": {
   "codemirror_mode": {
    "name": "ipython",
    "version": 3
   },
   "file_extension": ".py",
   "mimetype": "text/x-python",
   "name": "python",
   "nbconvert_exporter": "python",
   "pygments_lexer": "ipython3",
   "version": "3.7.9"
  }
 },
 "nbformat": 4,
 "nbformat_minor": 4
}
